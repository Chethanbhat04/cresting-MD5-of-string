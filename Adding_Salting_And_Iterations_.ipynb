{
  "nbformat": 4,
  "nbformat_minor": 0,
  "metadata": {
    "colab": {
      "name": "Adding Salting And Iterations .ipynb",
      "provenance": [],
      "collapsed_sections": [],
      "include_colab_link": true
    },
    "kernelspec": {
      "display_name": "Python 3",
      "name": "python3"
    }
  },
  "cells": [
    {
      "cell_type": "markdown",
      "metadata": {
        "id": "view-in-github",
        "colab_type": "text"
      },
      "source": [
        "<a href=\"https://colab.research.google.com/github/Chethanbhat04/cresting-MD5-of-string/blob/main/Adding_Salting_And_Iterations_.ipynb\" target=\"_parent\"><img src=\"https://colab.research.google.com/assets/colab-badge.svg\" alt=\"Open In Colab\"/></a>"
      ]
    },
    {
      "cell_type": "code",
      "metadata": {
        "colab": {
          "base_uri": "https://localhost:8080/"
        },
        "id": "XQw4dULDN2_7",
        "outputId": "0a2a09a2-0f01-4e94-c94f-1fb75efbc009"
      },
      "source": [
        "import hashlib\n",
        "import os\n",
        "\n",
        "password = \"!hello world!\"\n",
        "password = password.encode()\n",
        "salt = os.urandom(16)\n",
        "password_hash = hashlib.pbkdf2_hmac(\"sha256\", password, salt, 10000)\n",
        "\n",
        "print(password_hash)\n"
      ],
      "execution_count": null,
      "outputs": [
        {
          "output_type": "stream",
          "text": [
            "b'7\\xb6W\\x95\\xc8\\xf2\\x8c\\xb0@\\xef0\\xf7$v\\xa5\"A\\x02\\x17$\\x98\\x84\\xc8\\xbf(\\xcf\\xd2\\xa50\\xfc\\xf8M'\n"
          ],
          "name": "stdout"
        }
      ]
    }
  ]
}