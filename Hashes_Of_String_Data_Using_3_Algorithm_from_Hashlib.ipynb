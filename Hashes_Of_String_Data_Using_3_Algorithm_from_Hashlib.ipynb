{
  "nbformat": 4,
  "nbformat_minor": 0,
  "metadata": {
    "colab": {
      "name": "Hashes Of String Data Using  3 Algorithm  from Hashlib.ipynb",
      "provenance": [],
      "collapsed_sections": [],
      "authorship_tag": "ABX9TyMiI1x7p2k4njHBt0nJ4kYB",
      "include_colab_link": true
    },
    "kernelspec": {
      "name": "python3",
      "display_name": "Python 3"
    },
    "language_info": {
      "name": "python"
    }
  },
  "cells": [
    {
      "cell_type": "markdown",
      "metadata": {
        "id": "view-in-github",
        "colab_type": "text"
      },
      "source": [
        "<a href=\"https://colab.research.google.com/github/Chethanbhat04/cresting-MD5-of-string/blob/main/Hashes_Of_String_Data_Using_3_Algorithm_from_Hashlib.ipynb\" target=\"_parent\"><img src=\"https://colab.research.google.com/assets/colab-badge.svg\" alt=\"Open In Colab\"/></a>"
      ]
    },
    {
      "cell_type": "code",
      "metadata": {
        "colab": {
          "base_uri": "https://localhost:8080/"
        },
        "id": "92P45H1gM-tN",
        "outputId": "506bb14b-000c-43bc-de95-2b112aa6871f"
      },
      "source": [
        " import hashlib;\n",
        " \n",
        "print(\"SHA-384:\",hashlib.sha384(b'hello world').hexdigest())\n",
        " \n",
        "print(\"SHA-224:\",hashlib.sha224(b'hello world').hexdigest())\n",
        " \n",
        "print(\"SHA-512:\",hashlib.sha512(b'hello world').hexdigest())"
      ],
      "execution_count": null,
      "outputs": [
        {
          "output_type": "stream",
          "text": [
            "SHA-384: fdbd8e75a67f29f701a4e040385e2e23986303ea10239211af907fcbb83578b3e417cb71ce646efd0819dd8c088de1bd\n",
            "SHA-224: 2f05477fc24bb4faefd86517156dafdecec45b8ad3cf2522a563582b\n",
            "SHA-512: 309ecc489c12d6eb4cc40f50c902f2b4d0ed77ee511a7c7a9bcd3ca86d4cd86f989dd35bc5ff499670da34255b45b0cfd830e81f605dcf7dc5542e93ae9cd76f\n"
          ],
          "name": "stdout"
        }
      ]
    }
  ]
}